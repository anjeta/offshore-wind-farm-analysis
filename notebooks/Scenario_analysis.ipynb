{
 "cells": [
  {
   "cell_type": "markdown",
   "id": "0082ccbf-3764-44b7-978f-4ff2c03ebdd4",
   "metadata": {},
   "source": [
    "### Scenario analysis result evaluation based on different criteria"
   ]
  },
  {
   "cell_type": "markdown",
   "id": "62a6b59e-e503-4828-948d-d0b2c519e63e",
   "metadata": {},
   "source": [
    "#### Import libraries"
   ]
  },
  {
   "cell_type": "code",
   "execution_count": null,
   "id": "f48e9964-3b89-4862-bdfd-0a285a0cc9b1",
   "metadata": {},
   "outputs": [],
   "source": [
    "import numpy as np\n",
    "from matplotlib import pyplot as plt\n",
    "import os\n",
    "import pandas as pd\n",
    "import seaborn as sns"
   ]
  },
  {
   "cell_type": "code",
   "execution_count": null,
   "id": "3cfcf6b7-82db-4d3d-a367-e747525aceba",
   "metadata": {},
   "outputs": [],
   "source": [
    "os.environ['KMP_DUPLICATE_LIB_OK'] = 'True'"
   ]
  },
  {
   "cell_type": "markdown",
   "id": "f9683b62-8b02-470a-8bb9-80e6a9aeef6a",
   "metadata": {},
   "source": [
    "#### Load the scenario analysis data"
   ]
  },
  {
   "cell_type": "code",
   "execution_count": null,
   "id": "ff95ff26-9478-4501-a946-a2fc94f87714",
   "metadata": {},
   "outputs": [],
   "source": [
    "file_path = \"../reports/\"\n",
    "file_name = \"Scenario_Analysis_All_Locations_All_Criteria.csv\"\n",
    "\n",
    "scenario_analysis_data = pd.read_csv(os.path.join(file_path, file_name))"
   ]
  },
  {
   "cell_type": "markdown",
   "id": "8fbf1469-3216-417e-b4f6-333fafec953c",
   "metadata": {},
   "source": [
    "#### Define the criteria selection"
   ]
  },
  {
   "cell_type": "code",
   "execution_count": null,
   "id": "3432f4b0-b4cc-40f7-8b4e-44bc3d358d05",
   "metadata": {},
   "outputs": [],
   "source": [
    "# criteria_selection = [\"fish_stock_health\", \"potential_habitat_restoration\"]\n",
    "# types = [1, 1]\n",
    "# criteria_selection = [\"average_income\", \"unemployment_rate\"]\n",
    "# types = [1, -1]\n",
    "criteria_selection = [\"marine_biodiversity\", \"carbon_sequestration_potential\"]\n",
    "types = [1, 1]\n",
    "\n",
    "filter_columns = criteria_selection.copy()\n",
    "filter_columns.append(\"distance_from_offshore_wind_farm\")"
   ]
  },
  {
   "cell_type": "markdown",
   "id": "1bf57e14-541c-43ec-9fbc-ebddcb4edc09",
   "metadata": {},
   "source": [
    "#### Visualize the results of scenario analysis"
   ]
  },
  {
   "cell_type": "code",
   "execution_count": null,
   "id": "14661f76-ae4c-403a-91f4-0fe1c3b24a37",
   "metadata": {},
   "outputs": [],
   "source": [
    "FONT_SIZE = 20"
   ]
  },
  {
   "cell_type": "code",
   "execution_count": null,
   "id": "c7c920d4-c889-41ce-aa5a-cd2b2abe6b5c",
   "metadata": {},
   "outputs": [],
   "source": [
    "scenario_analysis_results = {}\n",
    "for community in list(scenario_analysis_data[\"community_name\"].unique()):\n",
    "    community_data = scenario_analysis_data[scenario_analysis_data[\"community_name\"] == community].sort_values(\"distance_from_offshore_wind_farm\", ascending=False)\n",
    "    community_data = community_data[filter_columns]\n",
    "    \n",
    "    locations = list(community_data[\"distance_from_offshore_wind_farm\"])\n",
    "    drop_idxs = []\n",
    "    for idx in range(len(locations) - 1):\n",
    "        if locations[idx] == locations[idx+1]:\n",
    "            if np.sum(list(community_data.iloc[idx][criteria_selection])) < np.sum(list(community_data.iloc[idx+1][criteria_selection])):\n",
    "                drop_idxs.append(idx)\n",
    "            else:\n",
    "                drop_idxs.append(idx+1)\n",
    "    drop_indexes = community_data.index[drop_idxs]\n",
    "    community_data.drop(drop_indexes, inplace=True)\n",
    "    scenario_analysis_results[community] = community_data.copy()\n",
    "    \n",
    "    # Plot impact ranges for selected criteria\n",
    "    sorted_locations = list(community_data[\"distance_from_offshore_wind_farm\"])\n",
    "    sorted_locations = [str(x) for x in sorted_locations]\n",
    "    \n",
    "    palette = sns.color_palette(\"tab20c\", len(criteria_selection))\n",
    "    height = 0.35\n",
    "    alpha = 1.0\n",
    "    \n",
    "    plt.figure(figsize=(20, 15))\n",
    "    for criterion_idx, criterion in enumerate(criteria_selection):\n",
    "        sorted_criterion_data = list(community_data[criterion])\n",
    "        for i in range(len(community_data)):\n",
    "            y = i - height * criterion_idx\n",
    "            if sorted_criterion_data[i] < 0:\n",
    "                plt.barh(y, sorted_criterion_data[i], height, left=0, color=palette[criterion_idx], alpha=alpha, label=criterion)\n",
    "            else:\n",
    "                plt.barh(y, sorted_criterion_data[i], height, left=0, color=palette[criterion_idx], alpha=alpha, label=criterion)\n",
    "    plt.axvline(0, color=\"gray\", linestyle='--', label=\"dataset average\")\n",
    "    plt.xlabel(\"Deviation from average [%]\")\n",
    "    plt.ylabel(\"Distance from shore [km]\")\n",
    "    plt.title(f\"Scenario Analysis for Location {community}\")\n",
    "    plt.yticks(np.arange(len(sorted_locations))-height, sorted_locations)\n",
    "    handles, labels = plt.gca().get_legend_handles_labels()\n",
    "    by_label = dict(zip(labels, handles))\n",
    "    plt.legend(by_label.values(), by_label.keys())\n",
    "    plt.grid(axis='x', linestyle='--', alpha=0.5)\n",
    "\n",
    "    plt.rc('font', size=FONT_SIZE)          # controls default text sizes\n",
    "    plt.rc('axes', titlesize=FONT_SIZE)     # fontsize of the axes title\n",
    "    plt.rc('axes', labelsize=FONT_SIZE)    # fontsize of the x and y labels\n",
    "    plt.rc('xtick', labelsize=FONT_SIZE)    # fontsize of the tick labels\n",
    "    plt.rc('ytick', labelsize=FONT_SIZE)    # fontsize of the tick labels\n",
    "    plt.rc('legend', fontsize=FONT_SIZE)    # legend fontsize\n",
    "    plt.rc('figure', titlesize=FONT_SIZE)  # fontsize of the figure title\n",
    "    \n",
    "    plt.savefig(f\"Scenario Analysis for Location {community} and Criteria {criteria_selection}.png\")\n",
    "    plt.close()"
   ]
  },
  {
   "cell_type": "markdown",
   "id": "21437442-18b8-448d-90d1-b1b1037d7978",
   "metadata": {},
   "source": [
    "#### Find optimal location for each community based on selected criteria"
   ]
  },
  {
   "cell_type": "code",
   "execution_count": null,
   "id": "02abfe2e-0bc6-46d8-bd6b-969148c783a4",
   "metadata": {},
   "outputs": [],
   "source": [
    "optimal_locations = {}\n",
    "for community in scenario_analysis_results.keys():\n",
    "    criteria_data = scenario_analysis_results[community][criteria_selection].to_numpy().transpose()\n",
    "    types = np.array(types)\n",
    "    criteria_data = criteria_data * types[:, np.newaxis]\n",
    "    optimal_location_idx = np.argmax(criteria_data.sum(axis=0))\n",
    "    optimal_locations[community] = scenario_analysis_results[community][\"distance_from_offshore_wind_farm\"].iloc[optimal_location_idx]\n",
    "\n",
    "for community, location in optimal_locations.items():\n",
    "    print(f\"Optimal location for {community} is {location} km from shore.\")"
   ]
  },
  {
   "cell_type": "markdown",
   "id": "3bb184f9-2d83-4515-9edf-8efd3c1e4e92",
   "metadata": {},
   "source": [
    "#### Save results to a file"
   ]
  },
  {
   "cell_type": "code",
   "execution_count": null,
   "id": "301bd486-8c8d-490f-9f9a-c7fc6e34b1bd",
   "metadata": {},
   "outputs": [],
   "source": [
    "result = pd.concat([df.assign(Key=key) for key, df in scenario_analysis_results.items()])\n",
    "result.to_csv(f\"Scenario_Analysis_for_Criteria {criteria_selection}.csv\")"
   ]
  }
 ],
 "metadata": {
  "kernelspec": {
   "display_name": "Python 3 (ipykernel)",
   "language": "python",
   "name": "python3"
  },
  "language_info": {
   "codemirror_mode": {
    "name": "ipython",
    "version": 3
   },
   "file_extension": ".py",
   "mimetype": "text/x-python",
   "name": "python",
   "nbconvert_exporter": "python",
   "pygments_lexer": "ipython3",
   "version": "3.11.7"
  }
 },
 "nbformat": 4,
 "nbformat_minor": 5
}
